{
 "cells": [
  {
   "cell_type": "code",
   "execution_count": 1,
   "id": "df7bd3b1-35a9-4730-a107-5bc5df4ea872",
   "metadata": {},
   "outputs": [],
   "source": [
    "from statsmodels.tsa.stattools import adfuller\n",
    "\n",
    "def dftest(data, threshold = 0.05):\n",
    "    # Perform Augmented Dickey-Fuller test\n",
    "    result = adfuller(data)\n",
    "    \n",
    "    # Extract test results\n",
    "    print(\"ADF Statistic:\", result[0])\n",
    "    print(\"p-value:\", result[1])\n",
    "    print(\"Critical Values:\", result[4])\n",
    "    \n",
    "    # Interpretation\n",
    "    if result[1] <= threshold:\n",
    "        print(\"The time series is stationary (reject the null hypothesis).\")\n",
    "    else:\n",
    "        print(\"The time series is non-stationary (fail to reject the null hypothesis).\")"
   ]
  },
  {
   "cell_type": "code",
   "execution_count": null,
   "id": "73a94580-f422-49a6-a1b0-1bcede4c92c2",
   "metadata": {},
   "outputs": [],
   "source": []
  }
 ],
 "metadata": {
  "kernelspec": {
   "display_name": "Python 3 (ipykernel)",
   "language": "python",
   "name": "python3"
  },
  "language_info": {
   "codemirror_mode": {
    "name": "ipython",
    "version": 3
   },
   "file_extension": ".py",
   "mimetype": "text/x-python",
   "name": "python",
   "nbconvert_exporter": "python",
   "pygments_lexer": "ipython3",
   "version": "3.12.4"
  }
 },
 "nbformat": 4,
 "nbformat_minor": 5
}
